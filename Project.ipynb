{
 "cells": [
  {
   "cell_type": "code",
   "execution_count": null,
   "id": "fb352e05-590f-48ec-ae5d-82c47834eae3",
   "metadata": {},
   "outputs": [],
   "source": [
    "import pandas as pd\n",
    "import numpy as np"
   ]
  },
  {
   "cell_type": "code",
   "execution_count": null,
   "id": "38846484-3cf8-4365-80bd-99ba534e53fc",
   "metadata": {},
   "outputs": [],
   "source": [
    "rating = pd.read_csv('BooksRating.csv',low_memory = False, on_bad_lines='skip')\n",
    "overall = pd.read_csv('BooksDataset.csv',low_memory = False, on_bad_lines='skip')"
   ]
  },
  {
   "cell_type": "code",
   "execution_count": null,
   "id": "75bf8733-863d-4fd1-8f28-3df5bdd42161",
   "metadata": {},
   "outputs": [],
   "source": [
    "rating.head()"
   ]
  },
  {
   "cell_type": "code",
   "execution_count": null,
   "id": "4eb6fbc4-2b53-4fc8-82f3-c020de01b8e5",
   "metadata": {},
   "outputs": [],
   "source": [
    "overall.head()"
   ]
  },
  {
   "cell_type": "code",
   "execution_count": null,
   "id": "7e320a7a-5397-4e19-946d-d4e71983c5c6",
   "metadata": {},
   "outputs": [],
   "source": [
    "overall.shape"
   ]
  },
  {
   "cell_type": "code",
   "execution_count": null,
   "id": "fd1480ba-e87d-433b-8b9b-4a4f64bdae09",
   "metadata": {},
   "outputs": [],
   "source": [
    "rating.shape"
   ]
  },
  {
   "cell_type": "code",
   "execution_count": null,
   "id": "f86fdf13-a7dc-4c02-8c33-fc4a611ad693",
   "metadata": {},
   "outputs": [],
   "source": [
    "book = overall.merge(rating, left_on='Title', right_on='title')"
   ]
  },
  {
   "cell_type": "code",
   "execution_count": null,
   "id": "c0db01f7-11e2-49b1-ab10-7e5453a4a4d9",
   "metadata": {},
   "outputs": [],
   "source": [
    "book.head()"
   ]
  },
  {
   "cell_type": "code",
   "execution_count": null,
   "id": "303aca97-ff9d-4d8d-84e4-c13f45abd448",
   "metadata": {},
   "outputs": [],
   "source": [
    "book.shape"
   ]
  },
  {
   "cell_type": "code",
   "execution_count": null,
   "id": "fd80882a-183b-43ac-9d8a-b6a47c83e49e",
   "metadata": {},
   "outputs": [],
   "source": [
    "book.info()"
   ]
  },
  {
   "cell_type": "code",
   "execution_count": null,
   "id": "279d4b93-f2c6-43d7-9f3f-5234ad2eddaf",
   "metadata": {},
   "outputs": [],
   "source": [
    "book.describe()"
   ]
  },
  {
   "cell_type": "code",
   "execution_count": null,
   "id": "cf55646a-fbf3-48fc-973a-0a654904236e",
   "metadata": {},
   "outputs": [],
   "source": [
    "book = book[['Title','authors','Description','Category','Publisher','Publish Date','average_rating']]"
   ]
  },
  {
   "cell_type": "code",
   "execution_count": null,
   "id": "cd3dda18-f5fd-4d93-984e-692d61eb2ed5",
   "metadata": {},
   "outputs": [],
   "source": [
    "book.head()"
   ]
  },
  {
   "cell_type": "code",
   "execution_count": null,
   "id": "4fa1ed09-5459-433a-bcd2-b02288885413",
   "metadata": {},
   "outputs": [],
   "source": [
    "book.info()"
   ]
  },
  {
   "cell_type": "code",
   "execution_count": null,
   "id": "640e8f74-7a2d-4b54-94b5-3d21cdd4873b",
   "metadata": {},
   "outputs": [],
   "source": [
    "book.isnull().sum()"
   ]
  },
  {
   "cell_type": "code",
   "execution_count": null,
   "id": "7ed03761-4408-4f1e-9b46-e0b82c9a9d93",
   "metadata": {},
   "outputs": [],
   "source": [
    "book.dropna(inplace=True)"
   ]
  },
  {
   "cell_type": "code",
   "execution_count": null,
   "id": "acbc1f5f-2f6b-43e8-998d-7d52dfe56c6c",
   "metadata": {},
   "outputs": [],
   "source": [
    "book.duplicated().sum()"
   ]
  },
  {
   "cell_type": "code",
   "execution_count": null,
   "id": "788dcef6-9a08-4551-a808-25d2db53195f",
   "metadata": {},
   "outputs": [],
   "source": [
    "book.drop_duplicates(inplace = True)"
   ]
  },
  {
   "cell_type": "code",
   "execution_count": null,
   "id": "fc728949-c263-40d4-a5cc-0e026bc61408",
   "metadata": {},
   "outputs": [],
   "source": [
    "book.shape"
   ]
  },
  {
   "cell_type": "code",
   "execution_count": null,
   "id": "7704091b-6bc5-431e-a32f-ea519b7aecda",
   "metadata": {},
   "outputs": [],
   "source": [
    "book['authors'] = book['authors'].apply(lambda x:x.replace(\" \",\"\"))\n",
    "book['Category'] = book['Category'].apply(lambda x:x.replace(\" \",\"\"))\n",
    "book['Publisher'] = book['Publisher'].apply(lambda x:x.replace(\" \",\"\"))"
   ]
  },
  {
   "cell_type": "code",
   "execution_count": null,
   "id": "c857ad6b-d4d3-4a1e-ae5f-692af639f742",
   "metadata": {},
   "outputs": [],
   "source": [
    "book['Publish Date'] = pd.to_datetime(book['Publish Date']).dt.year.astype(str)"
   ]
  },
  {
   "cell_type": "code",
   "execution_count": null,
   "id": "c057fc7b-e03d-4e37-8e16-17064f4d3a39",
   "metadata": {},
   "outputs": [],
   "source": [
    "book['average_rating'] = book['average_rating'].astype(str)"
   ]
  },
  {
   "cell_type": "code",
   "execution_count": null,
   "id": "b6afe207-d074-4324-b113-5a55d18826a8",
   "metadata": {},
   "outputs": [],
   "source": [
    "book['Description'] = book['Description'].apply(lambda x:x.split())\n",
    "book['authors'] = book['authors'].apply(lambda x:x.split())\n",
    "book['Publisher'] = book['Publisher'].apply(lambda x:x.split())\n",
    "book['Category'] = book['Category'].apply(lambda x:x.split())\n",
    "book['Publish Date'] = book['Publish Date'].apply(lambda x:x.split())\n",
    "book['average_rating'] = book['average_rating'].apply(lambda x:x.split())"
   ]
  },
  {
   "cell_type": "code",
   "execution_count": null,
   "id": "7f77caae-3694-4218-965f-082bb6b631d3",
   "metadata": {},
   "outputs": [],
   "source": [
    "book['tag'] = book['Description']+book['authors']+book['Publisher']+book['Category']+book['Publish Date']+book['average_rating']"
   ]
  },
  {
   "cell_type": "code",
   "execution_count": null,
   "id": "8a55a81b-4825-4ca9-b802-0cb4693655fc",
   "metadata": {},
   "outputs": [],
   "source": [
    "book.head()"
   ]
  },
  {
   "cell_type": "code",
   "execution_count": null,
   "id": "a3ff503f-9db6-41e4-a82d-4b2893bf81ec",
   "metadata": {},
   "outputs": [],
   "source": [
    "book.info()\n",
    "book.shape"
   ]
  },
  {
   "cell_type": "code",
   "execution_count": null,
   "id": "b4e315f4-4a8f-48de-8ba4-7f42b30fe1c7",
   "metadata": {},
   "outputs": [],
   "source": [
    "book = book[['Title','tag']]"
   ]
  },
  {
   "cell_type": "code",
   "execution_count": null,
   "id": "217e6539-df07-417b-8139-1772675f2689",
   "metadata": {},
   "outputs": [],
   "source": [
    "book.head()"
   ]
  },
  {
   "cell_type": "code",
   "execution_count": null,
   "id": "b8276acd-4e08-465b-a44c-9852d5d1e7e7",
   "metadata": {},
   "outputs": [],
   "source": [
    "book['tag'] = book['tag'].apply(lambda x:\" \".join(x))"
   ]
  },
  {
   "cell_type": "code",
   "execution_count": null,
   "id": "e3adc64d-db44-49b4-8462-ba7e06172119",
   "metadata": {},
   "outputs": [],
   "source": [
    "book['tag'] = book['tag'].apply(lambda x:x.lower())"
   ]
  },
  {
   "cell_type": "code",
   "execution_count": null,
   "id": "6280c794-e5b3-4003-8c06-dd8a607bf666",
   "metadata": {},
   "outputs": [],
   "source": [
    "from sklearn.feature_extraction.text import CountVectorizer\n",
    "cv = CountVectorizer(max_features = 18000)"
   ]
  },
  {
   "cell_type": "code",
   "execution_count": null,
   "id": "e7ed5c84-0916-4513-9aef-07857e6ed5a2",
   "metadata": {},
   "outputs": [],
   "source": [
    "vector = cv.fit_transform(book['tag'])"
   ]
  },
  {
   "cell_type": "code",
   "execution_count": null,
   "id": "87404790-7e8b-4d53-a1c3-ba5b87159bca",
   "metadata": {},
   "outputs": [],
   "source": [
    "vector.shape"
   ]
  },
  {
   "cell_type": "code",
   "execution_count": null,
   "id": "9db96c72-130c-4eef-8e57-b6fda571d91e",
   "metadata": {},
   "outputs": [],
   "source": [
    "cv.get_feature_names_out()"
   ]
  },
  {
   "cell_type": "code",
   "execution_count": null,
   "id": "d9fdb5b4-2be9-424f-9bd6-67bd3dcf22b3",
   "metadata": {},
   "outputs": [],
   "source": [
    "import nltk\n",
    "from nltk.stem.porter import PorterStemmer\n",
    "ps = PorterStemmer()"
   ]
  },
  {
   "cell_type": "code",
   "execution_count": null,
   "id": "25651ccc-14ea-4213-9ab7-bab91305bef1",
   "metadata": {},
   "outputs": [],
   "source": [
    "def stem(text):\n",
    "    y = []\n",
    "    for i in text.split():\n",
    "        y.append(ps.stem(i))\n",
    "    return \" \".join(y)"
   ]
  },
  {
   "cell_type": "code",
   "execution_count": null,
   "id": "086d59ab-289c-488c-a218-be55a0a503e2",
   "metadata": {},
   "outputs": [],
   "source": [
    "book['tag'] = book['tag'].apply(stem)"
   ]
  },
  {
   "cell_type": "code",
   "execution_count": null,
   "id": "39d3024f-8399-407b-b816-4aff602bb0af",
   "metadata": {},
   "outputs": [],
   "source": [
    "from sklearn.metrics.pairwise import cosine_similarity"
   ]
  },
  {
   "cell_type": "code",
   "execution_count": null,
   "id": "39cc1d1e-30df-446a-8bb7-337c8e0709e6",
   "metadata": {},
   "outputs": [],
   "source": [
    "similarity = cosine_similarity(vector)"
   ]
  },
  {
   "cell_type": "code",
   "execution_count": null,
   "id": "ce8e2f70-a45b-4c8f-9a30-69768733f12e",
   "metadata": {},
   "outputs": [],
   "source": [
    "similarity[0]\n",
    "sorted(list(enumerate(similarity[0])),reverse=True,key=lambda x:x[1])[1:6]"
   ]
  },
  {
   "cell_type": "code",
   "execution_count": null,
   "id": "d3e99be8-2e4d-4b66-b19c-a78952b83f62",
   "metadata": {},
   "outputs": [],
   "source": [
    "book[book['Title'] == 'This Lullaby'].index[0]"
   ]
  },
  {
   "cell_type": "code",
   "execution_count": null,
   "id": "4221cc32-44d4-43e1-ba14-dd58d23215cc",
   "metadata": {},
   "outputs": [],
   "source": [
    "def rec(b):\n",
    "    book_index = book[book['Title'] == b].index[0]\n",
    "    dist = similarity[book_index]\n",
    "    book_list = sorted(list(enumerate(dist)),reverse=True,key=lambda x:x[1])[1:6]\n",
    "\n",
    "    for i in book_list:\n",
    "        print(book.iloc[i[0]][0])"
   ]
  },
  {
   "cell_type": "code",
   "execution_count": null,
   "id": "8b1b776f-ea6d-4f71-a2b3-8061142a926d",
   "metadata": {},
   "outputs": [],
   "source": [
    "rec('This Lullaby')"
   ]
  },
  {
   "cell_type": "code",
   "execution_count": null,
   "id": "fa4598d0-d6a2-45d9-be98-4230f2b5ac12",
   "metadata": {},
   "outputs": [],
   "source": [
    "#https://www.kaggle.com/datasets/elvinrustam/books-dataset\n",
    "#https://www.kaggle.com/datasets/jealousleopard/goodreadsbooks"
   ]
  },
  {
   "cell_type": "code",
   "execution_count": null,
   "id": "aebbe83d-6fc4-4c81-b6f1-e874f5560c4b",
   "metadata": {},
   "outputs": [],
   "source": []
  }
 ],
 "metadata": {
  "kernelspec": {
   "display_name": "Python 3 (ipykernel)",
   "language": "python",
   "name": "python3"
  },
  "language_info": {
   "codemirror_mode": {
    "name": "ipython",
    "version": 3
   },
   "file_extension": ".py",
   "mimetype": "text/x-python",
   "name": "python",
   "nbconvert_exporter": "python",
   "pygments_lexer": "ipython3",
   "version": "3.12.4"
  }
 },
 "nbformat": 4,
 "nbformat_minor": 5
}
